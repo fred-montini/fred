{
 "cells": [
  {
   "cell_type": "code",
   "execution_count": null,
   "id": "0d11e6d2-9de8-41a3-b029-10cb06cdaec1",
   "metadata": {},
   "outputs": [],
   "source": [
    "!pip install kb-python gget"
   ]
  },
  {
   "cell_type": "code",
   "execution_count": null,
   "id": "b610ba1c-13ce-43e7-9c4f-f1e371ea6cde",
   "metadata": {},
   "outputs": [],
   "source": []
  },
  {
   "cell_type": "code",
   "execution_count": null,
   "id": "784f0dec-b744-431a-95b1-2a856a80af15",
   "metadata": {},
   "outputs": [],
   "source": [
    "!kb ref --aa --d-list $(gget ref --ftp -w dna homo_sapiens) -i index.idx --workflow custom /palmdb_rdrp_seqs.fa --kallisto /opt/homebrew/bin/kallisto -t 10"
   ]
  },
  {
   "cell_type": "code",
   "execution_count": null,
   "id": "fb51cac0-8b00-4c4b-8af9-e0a9668af2c1",
   "metadata": {},
   "outputs": [],
   "source": [
    "import glob\n",
    "\n",
    "\n",
    "fastq_files = glob.glob(\"cell_human_space_time_unsorted/*.fastq.gz\")\n",
    "\n",
    "fastq_files_str = ' '.join(f'\"{file}\"' for file in fastq_files)\n",
    "\n",
    "print(fastq_files_str)\n",
    "\n",
    "!kb count \\\n",
    "  --aa \\\n",
    "  -i /Users/tbl11/Desktop/new/palmdb_human_dlist_cdna_dna.idx -g palmdb_clustered_t2g.txt \\\n",
    "  --parity single \\\n",
    "  -x default \\\n",
    "  $fastq_files_str \\\n",
    "  --kallisto /opt/homebrew/bin/kallisto \\\n",
    "  -t 10  \n"
   ]
  },
  {
   "cell_type": "code",
   "execution_count": null,
   "id": "723be785-dd0d-4366-8788-702e336cd70a",
   "metadata": {},
   "outputs": [],
   "source": []
  }
 ],
 "metadata": {
  "kernelspec": {
   "display_name": "Python 3 (ipykernel)",
   "language": "python",
   "name": "python3"
  },
  "language_info": {
   "codemirror_mode": {
    "name": "ipython",
    "version": 3
   },
   "file_extension": ".py",
   "mimetype": "text/x-python",
   "name": "python",
   "nbconvert_exporter": "python",
   "pygments_lexer": "ipython3",
   "version": "3.9.0"
  }
 },
 "nbformat": 4,
 "nbformat_minor": 5
}
