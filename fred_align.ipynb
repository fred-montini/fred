{
 "cells": [
  {
   "cell_type": "code",
   "execution_count": null,
   "id": "0d11e6d2-9de8-41a3-b029-10cb06cdaec1",
   "metadata": {},
   "outputs": [],
   "source": [
    "# Step 1: Install necessary Python packages (Optional: install gget to fetch the host genome and/or transcriptome)\n",
    "!pip install kb-python gget"
   ]
  },
  {
   "cell_type": "code",
   "execution_count": null,
   "id": "b610ba1c-13ce-43e7-9c4f-f1e371ea6cde",
   "metadata": {},
   "outputs": [],
   "source": []
  },
  {
   "cell_type": "code",
   "execution_count": null,
   "id": "784f0dec-b744-431a-95b1-2a856a80af15",
   "metadata": {},
   "outputs": [],
   "source": [
    "!kb ref --aa --d-list $(gget ref --ftp -w dna homo_sapiens) -i index.idx --workflow custom /Users/tbl11/Desktop/new/palmdb_rdrp_seqs.fa --kallisto /opt/homebrew/bin/kallisto -t 10"
   ]
  },
  {
   "cell_type": "code",
   "execution_count": 20,
   "id": "fb51cac0-8b00-4c4b-8af9-e0a9668af2c1",
   "metadata": {},
   "outputs": [
    {
     "name": "stdout",
     "output_type": "stream",
     "text": [
      "\"/Users/tbl11/Partners HealthCare Dropbox/Federico Montini/caso/phs project/Fred_april24_milan/public_available/cell_human_space_time_unsorted/Human_colon_16S8002582_S1_L001_I1_001.fastq.gz\" \"/Users/tbl11/Partners HealthCare Dropbox/Federico Montini/caso/phs project/Fred_april24_milan/public_available/cell_human_space_time_unsorted/Human_colon_16S8002574_S1_L001_I1_001.fastq.gz\" \"/Users/tbl11/Partners HealthCare Dropbox/Federico Montini/caso/phs project/Fred_april24_milan/public_available/cell_human_space_time_unsorted/Human_colon_16S8123913_S1_L001_I1_001.fastq.gz\" \"/Users/tbl11/Partners HealthCare Dropbox/Federico Montini/caso/phs project/Fred_april24_milan/public_available/cell_human_space_time_unsorted/Human_colon_16S8002581_S1_L001_I1_001.fastq.gz\" \"/Users/tbl11/Partners HealthCare Dropbox/Federico Montini/caso/phs project/Fred_april24_milan/public_available/cell_human_space_time_unsorted/Human_colon_16S8000484_S1_L001_I1_001.fastq.gz\" \"/Users/tbl11/Partners HealthCare Dropbox/Federico Montini/caso/phs project/Fred_april24_milan/public_available/cell_human_space_time_unsorted/Human_colon_16S8123912_S1_L001_I1_001.fastq.gz\" \"/Users/tbl11/Partners HealthCare Dropbox/Federico Montini/caso/phs project/Fred_april24_milan/public_available/cell_human_space_time_unsorted/Human_colon_16S8123916_S1_L001_I1_001.fastq.gz\"\n",
      "[2024-08-17 21:02:46,310]    INFO [count] Using index /Users/tbl11/Desktop/new/palmdb_human_dlist_cdna_dna.idx to generate BUS file to . from\n",
      "[2024-08-17 21:02:46,312]    INFO [count]         /Users/tbl11/Partners HealthCare Dropbox/Federico Montini/caso/phs project/Fred_april24_milan/public_available/cell_human_space_time_unsorted/Human_colon_16S8002582_S1_L001_I1_001.fastq.gz\n",
      "[2024-08-17 21:02:46,312]    INFO [count]         /Users/tbl11/Partners HealthCare Dropbox/Federico Montini/caso/phs project/Fred_april24_milan/public_available/cell_human_space_time_unsorted/Human_colon_16S8002574_S1_L001_I1_001.fastq.gz\n",
      "[2024-08-17 21:02:46,312]    INFO [count]         /Users/tbl11/Partners HealthCare Dropbox/Federico Montini/caso/phs project/Fred_april24_milan/public_available/cell_human_space_time_unsorted/Human_colon_16S8123913_S1_L001_I1_001.fastq.gz\n",
      "[2024-08-17 21:02:46,312]    INFO [count]         /Users/tbl11/Partners HealthCare Dropbox/Federico Montini/caso/phs project/Fred_april24_milan/public_available/cell_human_space_time_unsorted/Human_colon_16S8002581_S1_L001_I1_001.fastq.gz\n",
      "[2024-08-17 21:02:46,312]    INFO [count]         /Users/tbl11/Partners HealthCare Dropbox/Federico Montini/caso/phs project/Fred_april24_milan/public_available/cell_human_space_time_unsorted/Human_colon_16S8000484_S1_L001_I1_001.fastq.gz\n",
      "[2024-08-17 21:02:46,312]    INFO [count]         /Users/tbl11/Partners HealthCare Dropbox/Federico Montini/caso/phs project/Fred_april24_milan/public_available/cell_human_space_time_unsorted/Human_colon_16S8123912_S1_L001_I1_001.fastq.gz\n",
      "[2024-08-17 21:02:46,312]    INFO [count]         /Users/tbl11/Partners HealthCare Dropbox/Federico Montini/caso/phs project/Fred_april24_milan/public_available/cell_human_space_time_unsorted/Human_colon_16S8123916_S1_L001_I1_001.fastq.gz\n",
      "[2024-08-17 21:02:47,451]   ERROR [count] \n",
      "[bus] Note: Strand option was not specified; setting it to --fr-stranded for specified technology\n",
      "Error: Number of files (7) does not match number of input files required by technology 10XV2 (2)\n",
      "kallisto 0.51.0\n",
      "Generates BUS files for single-cell sequencing\n",
      "\n",
      "Usage: kallisto bus [arguments] FASTQ-files\n",
      "\n",
      "Required arguments:\n",
      "-i, --index=STRING            Filename for the kallisto index to be used for\n",
      "pseudoalignment\n",
      "-o, --output-dir=STRING       Directory to write output to\n",
      "\n",
      "Optional arguments:\n",
      "-x, --technology=STRING       Single-cell technology used\n",
      "-l, --list                    List all single-cell technologies supported\n",
      "-B, --batch=FILE              Process files listed in FILE\n",
      "-t, --threads=INT             Number of threads to use (default: 1)\n",
      "-b, --bam                     Input file is a BAM file\n",
      "-n, --num                     Output number of read in flag column (incompatible with --bam)\n",
      "-N, --numReads                Maximum number of reads to process from supplied input\n",
      "-T, --tag=STRING              5′ tag sequence to identify UMI reads for certain technologies\n",
      "--fr-stranded             Strand specific reads for UMI-tagged reads, first read forward\n",
      "--rf-stranded             Strand specific reads for UMI-tagged reads, first read reverse\n",
      "--unstranded              Treat all read as non-strand-specific\n",
      "--paired                  Treat reads as paired\n",
      "--long                    Treat reads as long\n",
      "--threshold               Threshold for rate of unmapped kmers per read\n",
      "--aa                      Align to index generated from a FASTA-file containing amino acid sequences\n",
      "--inleaved                Specifies that input is an interleaved FASTQ file\n",
      "--batch-barcodes          Records both batch and extracted barcode in BUS file\n",
      "--verbose                 Print out progress information every 1M proccessed reads\n",
      "[2024-08-17 21:02:47,453]   ERROR [main] An exception occurred\n",
      "Traceback (most recent call last):\n",
      "  File \"/Users/tbl11/miniconda3-intel/envs/gseapy/lib/python3.9/site-packages/kb_python/main.py\", line 1618, in main\n",
      "    COMMAND_TO_FUNCTION[args.command](parser, args, temp_dir=temp_dir)\n",
      "  File \"/Users/tbl11/miniconda3-intel/envs/gseapy/lib/python3.9/site-packages/kb_python/main.py\", line 703, in parse_count\n",
      "    count(\n",
      "  File \"/Users/tbl11/miniconda3-intel/envs/gseapy/lib/python3.9/site-packages/ngs_tools/logging.py\", line 62, in inner\n",
      "    return func(*args, **kwargs)\n",
      "  File \"/Users/tbl11/miniconda3-intel/envs/gseapy/lib/python3.9/site-packages/kb_python/count.py\", line 1279, in count\n",
      "    bus_result = kallisto_bus(\n",
      "  File \"/Users/tbl11/miniconda3-intel/envs/gseapy/lib/python3.9/site-packages/kb_python/count.py\", line 203, in kallisto_bus\n",
      "    run_executable(command)\n",
      "  File \"/Users/tbl11/miniconda3-intel/envs/gseapy/lib/python3.9/site-packages/kb_python/dry/__init__.py\", line 25, in inner\n",
      "    return func(*args, **kwargs)\n",
      "  File \"/Users/tbl11/miniconda3-intel/envs/gseapy/lib/python3.9/site-packages/kb_python/utils.py\", line 203, in run_executable\n",
      "    raise sp.CalledProcessError(p.returncode, ' '.join(command))\n",
      "subprocess.CalledProcessError: Command '/opt/homebrew/bin/kallisto bus -i /Users/tbl11/Desktop/new/palmdb_human_dlist_cdna_dna.idx -o . -x 10xv2 -t 10 --aa /Users/tbl11/Partners HealthCare Dropbox/Federico Montini/caso/phs project/Fred_april24_milan/public_available/cell_human_space_time_unsorted/Human_colon_16S8002582_S1_L001_I1_001.fastq.gz /Users/tbl11/Partners HealthCare Dropbox/Federico Montini/caso/phs project/Fred_april24_milan/public_available/cell_human_space_time_unsorted/Human_colon_16S8002574_S1_L001_I1_001.fastq.gz /Users/tbl11/Partners HealthCare Dropbox/Federico Montini/caso/phs project/Fred_april24_milan/public_available/cell_human_space_time_unsorted/Human_colon_16S8123913_S1_L001_I1_001.fastq.gz /Users/tbl11/Partners HealthCare Dropbox/Federico Montini/caso/phs project/Fred_april24_milan/public_available/cell_human_space_time_unsorted/Human_colon_16S8002581_S1_L001_I1_001.fastq.gz /Users/tbl11/Partners HealthCare Dropbox/Federico Montini/caso/phs project/Fred_april24_milan/public_available/cell_human_space_time_unsorted/Human_colon_16S8000484_S1_L001_I1_001.fastq.gz /Users/tbl11/Partners HealthCare Dropbox/Federico Montini/caso/phs project/Fred_april24_milan/public_available/cell_human_space_time_unsorted/Human_colon_16S8123912_S1_L001_I1_001.fastq.gz /Users/tbl11/Partners HealthCare Dropbox/Federico Montini/caso/phs project/Fred_april24_milan/public_available/cell_human_space_time_unsorted/Human_colon_16S8123916_S1_L001_I1_001.fastq.gz' returned non-zero exit status 1.\n"
     ]
    }
   ],
   "source": [
    "import glob\n",
    "\n",
    "# Step 1: Gather all .fastq.gz files in the specified directory\n",
    "fastq_files = glob.glob(\"/Users/tbl11/Partners HealthCare Dropbox/Federico Montini/caso/phs project/Fred_april24_milan/public_available/cell_human_space_time_unsorted/*.fastq.gz\")\n",
    "\n",
    "# Step 2: Escape spaces by enclosing each file path in double quotes\n",
    "fastq_files_str = ' '.join(f'\"{file}\"' for file in fastq_files)\n",
    "\n",
    "# Optional: Print the string to verify that all files are correctly listed with escaped spaces\n",
    "print(fastq_files_str)\n",
    "\n",
    "# Step 3: Run the kb count command with the list of files\n",
    "!kb count \\\n",
    "  --aa \\\n",
    "  -i /Users/tbl11/Desktop/new/palmdb_human_dlist_cdna_dna.idx -g /Users/tbl11/Desktop/new/palmdb_clustered_t2g.txt \\\n",
    "  --parity single \\\n",
    "  -x default \\\n",
    "  $fastq_files_str \\\n",
    "  --kallisto /opt/homebrew/bin/kallisto \\\n",
    "  -t 10  # Adjusted to 10 cores\n"
   ]
  },
  {
   "cell_type": "code",
   "execution_count": null,
   "id": "723be785-dd0d-4366-8788-702e336cd70a",
   "metadata": {},
   "outputs": [],
   "source": []
  }
 ],
 "metadata": {
  "kernelspec": {
   "display_name": "Python 3 (ipykernel)",
   "language": "python",
   "name": "python3"
  },
  "language_info": {
   "codemirror_mode": {
    "name": "ipython",
    "version": 3
   },
   "file_extension": ".py",
   "mimetype": "text/x-python",
   "name": "python",
   "nbconvert_exporter": "python",
   "pygments_lexer": "ipython3",
   "version": "3.9.0"
  }
 },
 "nbformat": 4,
 "nbformat_minor": 5
}
